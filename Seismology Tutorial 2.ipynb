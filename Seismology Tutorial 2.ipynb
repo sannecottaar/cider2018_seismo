{
 "cells": [
  {
   "cell_type": "markdown",
   "metadata": {},
   "source": [
    "# Exploring Seismograms\n",
    "\n",
    "This is a script to compare data to synthetics. \n",
    "At the top there are a number of parameteres to change:\n",
    "- What to plot (data/synthetics)\n",
    "- What frequencies to plot\n",
    "- What componeent to plot\n",
    "- What phase to center on\n",
    "- Which travel times to plot\n",
    "- Organizing seismograms as a function of distance or azimuth\n",
    "\n",
    "Code blocks can be run with shift-enter.\n",
    "NOTE: every time you change something, you need to re-run  that code-block, before rerunnign the last code block (which does the actual plotting)"
   ]
  },
  {
   "cell_type": "code",
   "execution_count": 1,
   "metadata": {},
   "outputs": [],
   "source": [
    "%matplotlib inline\n",
    "import obspy\n",
    "import obspy.taup\n",
    "from obspy import read\n",
    "from obspy import UTCDateTime\n",
    "import obspy.signal\n",
    "import matplotlib.pyplot as plt\n",
    "import matplotlib.colors as colors\n",
    "import matplotlib.cm as cm\n",
    "import geographiclib\n",
    "import numpy as np\n",
    "import sys\n",
    "sys.path.insert(1, './basemap')\n",
    "from mpl_toolkits.basemap import Basemap\n",
    "import glob\n",
    "import basemap\n",
    "\n",
    "plt.rcParams[\"figure.figsize\"] = (14,10)"
   ]
  },
  {
   "cell_type": "markdown",
   "metadata": {},
   "source": [
    "## Event Name and Data Loading\n",
    "There is only one event available to you. <br>\n",
    "Loading data, this takes a while, but this code block only needs to be run once."
   ]
  },
  {
   "cell_type": "code",
   "execution_count": 2,
   "metadata": {},
   "outputs": [
    {
     "name": "stdout",
     "output_type": "stream",
     "text": [
      "done loading\n"
     ]
    }
   ],
   "source": [
    "event = '20161225'\n",
    "datalist = read(event +'data.PICKLE')\n",
    "instaseislist = read(event+'instaseis.PICKLE')\n",
    "shakemovielist = read(event+'shakemovie.PICKLE')\n",
    "\n",
    "print('done loading')"
   ]
  },
  {
   "cell_type": "markdown",
   "metadata": {},
   "source": [
    "## DEFINE SUBPLOTS\n",
    "This sets the number of subplots. <br>\n",
    "Choose from 'realdata', 'instaseis', 'shakemovie"
   ]
  },
  {
   "cell_type": "code",
   "execution_count": 3,
   "metadata": {
    "collapsed": true
   },
   "outputs": [],
   "source": [
    "subplots = ['realdata', 'instaseis']"
   ]
  },
  {
   "cell_type": "markdown",
   "metadata": {},
   "source": [
    "## SETTING FREQUENCY LIMITS\n",
    "or 1/periods <br>\n",
    "Note, the fmax will be reset if using specific synthetics, which are\n",
    "only valid up to specific frequencies <br>"
   ]
  },
  {
   "cell_type": "code",
   "execution_count": 4,
   "metadata": {
    "collapsed": true
   },
   "outputs": [],
   "source": [
    "fmin = 1. / 30.\n",
    "fmax = 1. / 10."
   ]
  },
  {
   "cell_type": "markdown",
   "metadata": {},
   "source": [
    "## COMPONTENT TO PLOT\n",
    "Choose 'Z' for vertical, 'T' for transverse, or 'R' for radial <br>\n",
    "All three could be plotted with e.g. compontents = ['T','R','Z']"
   ]
  },
  {
   "cell_type": "code",
   "execution_count": 5,
   "metadata": {
    "collapsed": true
   },
   "outputs": [],
   "source": [
    "components = ['T']\n",
    "compcolors = ['k', 'r', 'b'] # Colors used to plot components"
   ]
  },
  {
   "cell_type": "markdown",
   "metadata": {},
   "source": [
    "## PHASE TO CENTER ON\n",
    "if first phase doesn't exist at a specific distance, secondary phase will be tried\n",
    "(only one backup phase can be given)"
   ]
  },
  {
   "cell_type": "code",
   "execution_count": 6,
   "metadata": {
    "collapsed": true
   },
   "outputs": [],
   "source": [
    "center_phase = ['Sdiff', 'S']"
   ]
  },
  {
   "cell_type": "markdown",
   "metadata": {},
   "source": [
    "## TRAVEL TIMES TO PLOT\n",
    "phases follow taup naming conventions, see:  <br>\n",
    "https://docs.obspy.org/packages/obspy.taup.html <br>\n",
    "A number of phases are precomputed and stored with the data, others will slow down the script to compute on the fly"
   ]
  },
  {
   "cell_type": "code",
   "execution_count": 7,
   "metadata": {
    "collapsed": true
   },
   "outputs": [],
   "source": [
    "tt_phases = ['Sdiff', 'S']"
   ]
  },
  {
   "cell_type": "markdown",
   "metadata": {},
   "source": [
    "## Y-AXIS\n",
    "Chooose to plot with distance or azimuth <br>\n",
    "Choose 'dist' or 'az' <br>\n",
    "'round' sets if seismograms are plotted at values rounded to whole numbers (this generally makes the plot easier to look at). "
   ]
  },
  {
   "cell_type": "code",
   "execution_count": 8,
   "metadata": {
    "collapsed": true
   },
   "outputs": [],
   "source": [
    "yaxis = 'dist'\n",
    "round = True"
   ]
  },
  {
   "cell_type": "markdown",
   "metadata": {},
   "source": [
    "## LIMITS OF THE PLOT\n",
    "-azimuth limits (data is included between 300 and 360 deg) <br>\n",
    "-distance limits (data is included between 90 and 130 deg) <br>\n",
    "-Time limits (Window around center phase)"
   ]
  },
  {
   "cell_type": "code",
   "execution_count": 9,
   "metadata": {
    "collapsed": true
   },
   "outputs": [],
   "source": [
    "azmin = 300.\n",
    "azmax = 360.\n",
    "\n",
    "distmin = 90\n",
    "distmax = 135\n",
    "\n",
    "timemin = -130\n",
    "timemax = 150"
   ]
  },
  {
   "cell_type": "markdown",
   "metadata": {},
   "source": [
    "## NORMALIZATION FACTOR\n",
    "factor to normalize all data by to improve plot <br>"
   ]
  },
  {
   "cell_type": "code",
   "execution_count": 10,
   "metadata": {
    "collapsed": true
   },
   "outputs": [],
   "source": [
    "fact = 10."
   ]
  },
  {
   "cell_type": "markdown",
   "metadata": {},
   "source": [
    "## PLOTTING DATA\n",
    "All the plotting happens after this, and in principle doesn't\n",
    "need to be changed... although you are welcome to play\n",
    "around/ improve/ break it..."
   ]
  },
  {
   "cell_type": "code",
   "execution_count": null,
   "metadata": {},
   "outputs": [
    {
     "name": "stdout",
     "output_type": "stream",
     "text": [
      "plotting  realdata ...\n",
      "plotting  instaseis ...\n"
     ]
    }
   ],
   "source": [
    "# Colormap for travel times\n",
    "cNorm = colors.Normalize(vmin=0, vmax=len(tt_phases))\n",
    "tt_cmap = cm.ScalarMappable(norm=cNorm, cmap=plt.get_cmap('jet'))\n",
    "\n",
    "# Setting the maximum feasible frequencies when synthetics are included\n",
    "if 'shakemovie' in subplots and fmax>1./17.:\n",
    "    print('Warning: max frequency set to 1/17 Hz as anything higher is not valid for shakemovie synthetics')\n",
    "    fmax = 1./17. # Shakemovie synthetics are only valid for periods down to 17 seconds\n",
    "if 'instaseis' in subplots and fmax>1./2.:\n",
    "    print('Warning: max frequency set to 1/2 Hz as anything higher is not valid for instaseis synthetics')\n",
    "    fmax = 1./2. # Instaseis synthetics included are only valid for periods down to 2 seconds\n",
    "if fmax > 1.:\n",
    "    print('Warning: max frequency set to 1 Hz as anything higher is pre-filtered from the data')\n",
    "    fmax = 1.\n",
    "\n",
    "prem = obspy.taup.TauPyModel('prem')\n",
    "\n",
    "\n",
    "slon = []\n",
    "slat = []\n",
    "elon = []\n",
    "dists =[]\n",
    "\n",
    "# Loop through data types\n",
    "for plotnum, sub in enumerate(subplots):\n",
    "    plt.subplot(1, len(subplots), 1+plotnum)\n",
    "    print('plotting ', sub, '...')\n",
    "    if sub == 'realdata':\n",
    "\n",
    "        allseis = datalist.copy()\n",
    "        norm = 1.e-4\n",
    "    elif sub == 'instaseis':\n",
    "        allseis = instaseislist.copy()\n",
    "        norm = 1.e-4\n",
    "    elif sub == 'shakemovie':\n",
    "        allseis = shakemovielist.copy()\n",
    "        norm = 1.e-4\n",
    "    else:\n",
    "        print(sub, 'option is unknown, choose realdata, instaseis, or shakemovie')\n",
    "\n",
    "    # Loop through components\n",
    "    for c, comp in enumerate(components):\n",
    "        seislist = allseis.select(channel='*' + comp)\n",
    "        # Loop through seismic receivers\n",
    "        for s,seis in enumerate(seislist):\n",
    "\n",
    "            if seis.stats['az'] > azmin and seis.stats['az'] < azmax:\n",
    "                if seis.stats['dist'] > distmin and seis.stats['dist'] < distmax:\n",
    "\n",
    "                    center_time = seis.stats.traveltimes[center_phase[0]]\n",
    "                    if len(center_phase) > 1:\n",
    "                        if center_time is None:\n",
    "                            center_time = seis.stats.traveltimes[center_phase[1]]\n",
    "                    if center_time is None:\n",
    "                        continue\n",
    "\n",
    "                    seis.filter('highpass',freq=fmin,corners=2,zerophase=True)\n",
    "                    seis.filter('lowpass',freq=fmax,corners=2,zerophase=True)\n",
    "\n",
    "                    xplot = seis.times(\n",
    "                        reftime=UTCDateTime(\n",
    "                            seis.stats['eventtime'])) - center_time\n",
    "                    win1 = np.argmin(np.abs(xplot - timemin))\n",
    "                    win2 = np.argmin(np.abs(xplot - timemax))\n",
    "                                                    \n",
    "                    if round:\n",
    "                        yloc = np.round(seis.stats[yaxis])\n",
    "                    else:\n",
    "                        yloc = seis.stats[yaxis]\n",
    "                    yplot = fact * seis.data / norm + yloc\n",
    "                    plt.plot(xplot[win1:win2], yplot[win1:win2], compcolors[c], linewidth=1)\n",
    "\n",
    "                    \n",
    "\n",
    "                    # Plot travel times\n",
    "                    if c==(len(components)-1) and plotnum == len(subplots)-1:\n",
    "                        for ph, phase in enumerate(tt_phases):\n",
    "                            if phase in seis.stats.traveltimes:\n",
    "                              if seis.stats.traveltimes[phase] is not None:\n",
    "                                xtime = seis.stats.traveltimes[phase] - center_time\n",
    "\n",
    "                                for i in range(len(subplots)):\n",
    "                                    plt.subplot(1, len(subplots), 1+i)\n",
    "                                    plt.plot([xtime, xtime], [yloc - 0.5,yloc + 0.5],\n",
    "                                         color=tt_cmap.to_rgba(ph), linewidth=2)\n",
    "                            else:\n",
    "                                arrs = prem.get_travel_times(seis.stats['evdp'],seis.stats['dist'], phase_list = (phase,))\n",
    "                                if len(arrs)>0:\n",
    "                                    for arr in arrs:\n",
    "                                        xtime = arr.time - center_time\n",
    "                                        for i in range(len(subplots)):\n",
    "                                            plt.subplot(1, len(subplots), 1+i)\n",
    "                                            plt.plot([xtime, xtime], [yloc - 0.5,yloc + 0.5],\n",
    "                                                 color=tt_cmap.to_rgba(ph), linewidth=2)\n",
    "                                            \n",
    "                        #Save locations to plot\n",
    "                        if elon == []:\n",
    "                            elon = seis.stats['evlo']\n",
    "                            elat = seis.stats['evla']\n",
    "                            edep = seis.stats['evdp']\n",
    "                        slon.append(seis.stats['stlo'])\n",
    "                        slat.append(seis.stats['stla'])\n",
    "                        dists.append(seis.stats['dist'])\n",
    "\n",
    "# plot some fake points to make an okay legend\n",
    "for ph, phase in enumerate(tt_phases):\n",
    "    plt.plot(0, 0, '.', color=tt_cmap.to_rgba(ph), label=phase)\n",
    "plt.legend()\n",
    "\n",
    "# prettify plots\n",
    "for i in range(len(subplots)):\n",
    "    plt.subplot(1, len(subplots), i + 1)\n",
    "    plt.xlabel('time (s) w.r.t.' + center_phase[0])\n",
    "    if yaxis == 'dist':\n",
    "        if i ==0:\n",
    "            plt.ylabel('distance (dg)')\n",
    "        plt.ylim([distmin, distmax])\n",
    "        plt.title(str(azmin) + ' < azimuth < ' + str(azmax))\n",
    "    if yaxis == 'az':\n",
    "        if i ==0:\n",
    "            plt.ylabel('azimuth (dg)')\n",
    "        plt.ylim([azmin, azmax])\n",
    "        plt.title(str(distmin) + ' < distance < ' + str(distmax))\n",
    "    plt.xlim([timemin, timemax])\n",
    "    plt.grid()\n",
    "plt.show()"
   ]
  },
  {
   "cell_type": "markdown",
   "metadata": {},
   "source": [
    "# Background model\n",
    "Model provided to plot on the map is S362ANI+M (Moulik & Ekstrom, 2014). This model is an update of the model S362ANI (Kustowski et al. 2008) which is used as the background model for the 3D shakemovie synthetics. <br>\n",
    "Choose which depth to plot. This can be 25, 50, 75, 100, 125, 150, 200, 250, 300, 350, 400, 500, 600, 700, 800, 1000, 1250, 1500, 1750, 2000, 2250, 2500, 2750, 2800, or 2890 km. <br>\n",
    "Choose what to plot 'vsv', 'vsh', or 'voigt'. <br>\n",
    "Choose 'absolute' or 'relative'. "
   ]
  },
  {
   "cell_type": "code",
   "execution_count": 61,
   "metadata": {},
   "outputs": [
    {
     "name": "stdout",
     "output_type": "stream",
     "text": [
      "model loaded\n"
     ]
    }
   ],
   "source": [
    "model = 'S362ANI+M' # No other model currently provided\n",
    "depth_mod = 2800\n",
    "to_plot = 'voigt'\n",
    "abs_or_rel = 'absolute'\n",
    "\n",
    "# Load model\n",
    "mod = np.loadtxt(model+'/'+model+'.'+to_plot+'.'+str(int(depth_mod))+'.txt', \n",
    "           dtype={'names': ('lon', 'lat', 'vel'),'formats': ('f4', 'f4', 'f4')})  \n",
    "\n",
    "# Reshape for plotting\n",
    "len1= len(np.unique(mod['lon']))\n",
    "len2= len(np.unique(mod['lat']))\n",
    "lon = mod['lon'].reshape((len2,len1))\n",
    "lat = mod['lat'].reshape((len2,len1))\n",
    "vel = mod['vel'].reshape((len2,len1))\n",
    "print('model loaded')"
   ]
  },
  {
   "cell_type": "markdown",
   "metadata": {
    "collapsed": true
   },
   "source": [
    "# Compute pierce points\n",
    "For given phase(s) and a depth\n"
   ]
  },
  {
   "cell_type": "code",
   "execution_count": null,
   "metadata": {},
   "outputs": [],
   "source": [
    "pp_depth = depth_mod # Depth to compute pierce point at\n",
    "pp_phases = center_phase # Phase(s) for piercepoints, can be set to center_phase\n",
    "\n",
    "\n",
    "downgoing =[]\n",
    "upgoing=[]\n",
    "for d in range(len(dists)):\n",
    "        # Compute ray paths\n",
    "        arrs = prem.get_ray_paths_geo(source_depth_in_km=edep, \n",
    "                                          source_latitude_in_deg=elat,\n",
    "                                          source_longitude_in_deg=elon,\n",
    "                                          receiver_latitude_in_deg=slat[d],\n",
    "                                          receiver_longitude_in_deg=slon[d],\n",
    "                                          phase_list=pp_phases)\n",
    "        for A in arrs:\n",
    "            p=A.path\n",
    "            cut = np.argmax(p['depth'])\n",
    "            # Only select rays that go deep enough\n",
    "            if pp_depth < np.max(p['depth']):\n",
    "                # Interpolate downgoing pierce point\n",
    "                downgoing.append((np.interp(pp_depth, p['depth'][:cut],p['lon'][:cut] ), \n",
    "                             np.interp(pp_depth, p['depth'][:cut],p['lat'][:cut])))\n",
    "\n",
    "                # Interpolate upgoing pierce point           \n",
    "                upgoing.append((np.interp(pp_depth, p['depth'][cut:][::-1],p['lon'][cut:][::-1] ), \n",
    "                             np.interp(pp_depth, p['depth'][cut:][::-1],p['lat'][cut:][::-1])))\n",
    "\n",
    "downgoing=np.asarray(downgoing)\n",
    "upgoing=np.asarray(upgoing)\n",
    "print('done computing pierce points')"
   ]
  },
  {
   "cell_type": "markdown",
   "metadata": {},
   "source": [
    "## Plotting Map\n",
    "Uses the selection of data from above"
   ]
  },
  {
   "cell_type": "code",
   "execution_count": null,
   "metadata": {},
   "outputs": [],
   "source": [
    "plot_tomography = True # Choose to plot background seismic model\n",
    "plot_piercepoints = True # Choose to plot pierce points computed above\n",
    "\n",
    "# Plot map background\n",
    "m = Basemap(projection='ortho',lat_0=20.,lon_0=-110,resolution='l')\n",
    "m.drawcoastlines()\n",
    "m.drawcountries()\n",
    "\n",
    "# Plot tomographic model\n",
    "if plot_tomography:\n",
    "    x,y = m(lon,lat)\n",
    "    if abs_or_rel == 'relative':\n",
    "        ref = np.mean(vel.ravel())\n",
    "        rel = (vel-ref)/ref*100.\n",
    "        lim = np.ceil(np.max(np.abs(rel)))\n",
    "        levels = np.linspace(-lim,lim,33)\n",
    "        m.contourf(x,y,rel,levels=levels,cmap=cm.seismic_r,linewidth=0)\n",
    "    if abs_or_rel == 'absolute':\n",
    "        m.contourf(x,y,vel,33, cmap=cm.viridis_r,linewidth=0)    \n",
    "\n",
    "    plt.colorbar()\n",
    "    plt.title(model + 'at ' +str(int(depth_mod)) + 'km')\n",
    "\n",
    "#Plot pierce points\n",
    "if plot_piercepoints:\n",
    "    x2,y2=m(downgoing[:,0], downgoing[:,1])\n",
    "    m.scatter(x2,y2,s=35,c='y',marker='o',alpha=1)\n",
    "    x2,y2=m(upgoing[:,0], upgoing[:,1])\n",
    "    m.scatter(x2,y2,s=35,c='c',marker='o',alpha=1)\n",
    "\n",
    "#Plot event\n",
    "x2,y2=m(elon+360.,elat)\n",
    "m.scatter(x2,y2,s=600,marker='*',facecolors='w',alpha=1)\n",
    "#Plot stations\n",
    "slon=[slon[x]+360. if slon[x]<0 else slon[x]  for x in range(len(slon))]\n",
    "x2,y2=m(slon,slat)\n",
    "m.scatter(x2,y2,s=35,c='m',marker='^',alpha=1)\n"
   ]
  },
  {
   "cell_type": "code",
   "execution_count": null,
   "metadata": {
    "collapsed": true
   },
   "outputs": [],
   "source": []
  }
 ],
 "metadata": {
  "kernelspec": {
   "display_name": "Python 3",
   "language": "python",
   "name": "python3"
  },
  "language_info": {
   "codemirror_mode": {
    "name": "ipython",
    "version": 3
   },
   "file_extension": ".py",
   "mimetype": "text/x-python",
   "name": "python",
   "nbconvert_exporter": "python",
   "pygments_lexer": "ipython3",
   "version": "3.5.3"
  }
 },
 "nbformat": 4,
 "nbformat_minor": 2
}
