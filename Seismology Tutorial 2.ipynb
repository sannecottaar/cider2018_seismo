{
 "cells": [
  {
   "cell_type": "markdown",
   "metadata": {},
   "source": [
    "# -----------------------------------------------------------------------------\n",
    "# EXPLORING SEISMOGRAMS\n",
    "\n",
    "This is a script to compare data to synthetics. \n",
    "At the top there are a number of parameteres to change:\n",
    "- What to plot (data/synthetics)\n",
    "- What frequencies to plot\n",
    "- What componeent to plot\n",
    "- What phase to center on\n",
    "- Which travel times to plot\n",
    "- Organizing seismograms as a function of distance or azimuth\n",
    "\n",
    "Code blocks can be run with shift-enter.\n",
    "NOTE: every time you change something, you need to re-run  that code-block, before rerunnign the last code block (which does the actual plotting)\n",
    "\n",
    "# -----------------------------------------------------------------------------\n",
    "# IMPORTS\n",
    "These blocks only need to be run once (if all goes well)\n",
    "## Importing libraries"
   ]
  },
  {
   "cell_type": "code",
   "execution_count": null,
   "metadata": {
    "collapsed": true,
    "scrolled": false
   },
   "outputs": [],
   "source": [
    "%matplotlib inline\n",
    "\n",
    "import obspy\n",
    "import obspy.taup\n",
    "from obspy import read\n",
    "from obspy import UTCDateTime\n",
    "from obspy.taup import TauPyModel\n",
    "import obspy.signal\n",
    "import matplotlib.pyplot as plt\n",
    "import matplotlib.colors as colors\n",
    "import matplotlib.cm as cm\n",
    "import geographiclib\n",
    "import numpy as np\n",
    "import sys\n",
    "sys.path.insert(1, './basemap')\n",
    "from mpl_toolkits.basemap import Basemap\n",
    "import glob\n",
    "import time\n",
    "\n"
   ]
  },
  {
   "cell_type": "markdown",
   "metadata": {},
   "source": [
    "## Importing data\n",
    "There is only one event available to you, so don't change this. <br>\n"
   ]
  },
  {
   "cell_type": "code",
   "execution_count": null,
   "metadata": {
    "scrolled": false
   },
   "outputs": [],
   "source": [
    "event = '20161225'\n",
    "datalist = read(event +'data.PICKLE')\n",
    "instaseislist = read(event+'instaseis.PICKLE')\n",
    "shakemovielist = read(event+'shakemovie.PICKLE')\n",
    "\n",
    "datalist.resample(5) # Sampling to 5 samples/ sec to speed things up a bit\n",
    "\n",
    "model = TauPyModel(model='ak135') # Load 1D model for travel time and ray predictions\n",
    "print('done loading')"
   ]
  },
  {
   "cell_type": "markdown",
   "metadata": {},
   "source": [
    "# -----------------------------------------------------------------------------\n",
    "# PLOTTING WAVEFORMS\n",
    "## Define subplots\n",
    "This sets the number of subplots. <br>\n",
    "Choose from 'realdata', 'instaseis', 'shakemovie'"
   ]
  },
  {
   "cell_type": "code",
   "execution_count": null,
   "metadata": {
    "collapsed": true,
    "scrolled": false
   },
   "outputs": [],
   "source": [
    "subplots = ['realdata','shakemovie']"
   ]
  },
  {
   "cell_type": "markdown",
   "metadata": {},
   "source": [
    "## Compontents to plot\n",
    "Choose 'Z' for vertical, 'T' for transverse, or 'R' for radial <br>\n",
    "All three could be plotted with e.g. compontents = ['T','R','Z']"
   ]
  },
  {
   "cell_type": "code",
   "execution_count": null,
   "metadata": {
    "collapsed": true,
    "scrolled": false
   },
   "outputs": [],
   "source": [
    "components = ['T']\n",
    "compcolors = ['k', 'r', 'b'] # Colors used to plot components"
   ]
  },
  {
   "cell_type": "markdown",
   "metadata": {},
   "source": [
    "## Phase to center plot on\n",
    "if first phase doesn't exist at a specific distance, secondary phase will be tried\n",
    "(only one backup phase can be given)"
   ]
  },
  {
   "cell_type": "code",
   "execution_count": null,
   "metadata": {
    "collapsed": true,
    "scrolled": false
   },
   "outputs": [],
   "source": [
    "center_phase = ['S','Sdiff']"
   ]
  },
  {
   "cell_type": "markdown",
   "metadata": {},
   "source": [
    "## Predicted travel times to plot\n",
    "phases follow taup naming conventions, see:  <br>\n",
    "https://docs.obspy.org/packages/obspy.taup.html <br>\n",
    "A number of phases are precomputed and stored with the data, others will slow down the script to compute on the fly"
   ]
  },
  {
   "cell_type": "code",
   "execution_count": null,
   "metadata": {
    "collapsed": true,
    "scrolled": false
   },
   "outputs": [],
   "source": [
    "tt_phases = ['S','Sdiff','ScS','SKS','SKKS']"
   ]
  },
  {
   "cell_type": "markdown",
   "metadata": {},
   "source": [
    "## Set frequency limits\n",
    "or 1/period  <br>\n",
    "Frequencies up to 0.5 Hz are included. <br>\n",
    "Note, the fmax is 1/17 Hz for the shakemovie synthetics. <br>"
   ]
  },
  {
   "cell_type": "code",
   "execution_count": null,
   "metadata": {
    "collapsed": true,
    "scrolled": false
   },
   "outputs": [],
   "source": [
    "fmin = 1. / 40. #1/period\n",
    "fmax = 1. / 17. #1/period"
   ]
  },
  {
   "cell_type": "markdown",
   "metadata": {},
   "source": [
    "## Y-axis: Plot as function of distance or azimuth\n",
    "Chooose to plot with distance or azimuth <br>\n",
    "Choose 'dist' or 'az' <br>\n",
    "'round' sets if seismograms are plotted at values rounded to whole numbers (this generally makes the plot easier to look at). "
   ]
  },
  {
   "cell_type": "code",
   "execution_count": null,
   "metadata": {
    "collapsed": true,
    "scrolled": false
   },
   "outputs": [],
   "source": [
    "yaxis = 'dist'\n",
    "round = True"
   ]
  },
  {
   "cell_type": "markdown",
   "metadata": {},
   "source": [
    "## Limits for azimuth, distance and time\n",
    "-azimuth limits (data is included between 300 and 360 deg) <br>\n",
    "-distance limits (data is included between 90 and 130 deg) <br>\n",
    "-Time limits (Window around center phase)"
   ]
  },
  {
   "cell_type": "code",
   "execution_count": null,
   "metadata": {
    "collapsed": true,
    "scrolled": false
   },
   "outputs": [],
   "source": [
    "azmin = 325.\n",
    "azmax = 360.\n",
    "\n",
    "distmin = 88\n",
    "distmax = 110\n",
    "\n",
    "timemin = -10\n",
    "timemax = 80"
   ]
  },
  {
   "cell_type": "markdown",
   "metadata": {},
   "source": [
    "## Normalization factor\n",
    "factor to normalize all data by to improve plot <br>"
   ]
  },
  {
   "cell_type": "code",
   "execution_count": null,
   "metadata": {
    "collapsed": true,
    "scrolled": false
   },
   "outputs": [],
   "source": [
    "fact = 1."
   ]
  },
  {
   "cell_type": "markdown",
   "metadata": {},
   "source": [
    "## Plotting data\n",
    "All the plotting happens after this, and in principle doesn't\n",
    "need to be changed... although you are welcome to play\n",
    "around/ improve/ break it..."
   ]
  },
  {
   "cell_type": "code",
   "execution_count": null,
   "metadata": {
    "scrolled": false
   },
   "outputs": [],
   "source": [
    "\n",
    "# Colormap for travel times\n",
    "cNorm = colors.Normalize(vmin=0, vmax=len(tt_phases))\n",
    "tt_cmap = cm.ScalarMappable(norm=cNorm, cmap=plt.get_cmap('jet'))\n",
    "\n",
    "\n",
    "# Setting the maximum feasible frequencies when synthetics are included\n",
    "if 'shakemovie' in subplots and fmax>1./17.:\n",
    "    print('Warning: max frequency set to 1/17 Hz as anything higher is not valid for shakemovie synthetics')\n",
    "if fmax > .5:\n",
    "    print('Warning: max frequency set to 0.5 Hz as anything higher is pre-filtered from the data')\n",
    "\n",
    "\n",
    "slon = []\n",
    "slat = []\n",
    "elon = []\n",
    "dists =[]\n",
    "axes = []\n",
    "\n",
    "\n",
    "\n",
    "fig = plt.figure(figsize = (18,10))\n",
    "for plotnum in range(len(subplots)):\n",
    "     axes.append(plt.subplot(1, len(subplots), 1+plotnum))   \n",
    "# Loop through data types\n",
    "for plotnum, sub in enumerate(subplots):\n",
    "    print('plotting ', sub, '...')\n",
    "    # Loop through components\n",
    "    for c, comp in enumerate(components):\n",
    "\n",
    "        if sub == 'realdata':\n",
    "            seislist = datalist.select(channel='*' + comp)\n",
    "            selectseis = seislist.copy()\n",
    "        elif sub == 'instaseis':\n",
    "            seislist = instaseislist.select(channel='*' + comp)       \n",
    "            selectseis =  seislist.copy()\n",
    "        elif sub == 'shakemovie':\n",
    "            seislist = shakemovielist.select(channel='*' + comp)       \n",
    "            selectseis = seislist.copy()\n",
    "            if fmax > 1./17.:\n",
    "                fmax = 1./17.\n",
    "\n",
    "        else:\n",
    "            print(sub, 'option is unknown, choose realdata, instaseis, or shakemovie')\n",
    "\n",
    "        # Loop through seismic receivers\n",
    "        relnorm = None\n",
    "        for s,seis in enumerate(selectseis):\n",
    "\n",
    "            if seis.stats['az'] > azmin and seis.stats['az'] < azmax:\n",
    "                if seis.stats['dist'] > distmin and seis.stats['dist'] < distmax:\n",
    "                    try:\n",
    "                        center_time = seis.stats.traveltimes[center_phase[0]]\n",
    "                    except:\n",
    "                        arrs = model.get_travel_times(seis.stats['evdp'],seis.stats['dist'], phase_list = [center_phase[0]])\n",
    "                        center_time = arrs[0].time\n",
    "                    if len(center_phase) > 1:\n",
    "                        if center_time is None:\n",
    "                            try:\n",
    "                                center_time = seis.stats.traveltimes[center_phase[1]]\n",
    "                            except:\n",
    "                                arrs = model.get_travel_times(seis.stats['evdp'],seis.stats['dist'], phase_list = [center_phase[1]])\n",
    "                                center_time = arrs[0].time\n",
    "                    if center_time is None:\n",
    "                        continue\n",
    "\n",
    "                        \n",
    "                    seis.filter('highpass',freq=fmin,corners=2,zerophase=True)\n",
    "                    seis.filter('lowpass',freq=fmax,corners=2,zerophase=True)\n",
    "\n",
    "                    xplot = seis.times(\n",
    "                        reftime=UTCDateTime(\n",
    "                            seis.stats['eventtime'])) - center_time\n",
    "                    win1 = np.argmin(np.abs(xplot - timemin))\n",
    "                    win2 = np.argmin(np.abs(xplot - timemax))\n",
    "                                                    \n",
    "                    if round:\n",
    "                        yloc = np.round(seis.stats[yaxis])\n",
    "                    else:\n",
    "                        yloc = seis.stats[yaxis]\n",
    "                    if relnorm == None:\n",
    "                        relnorm = np.max(np.abs(seis.data))\n",
    "                    yplot = fact * seis.data / (relnorm) + yloc\n",
    "                    axes[plotnum].plot(xplot[win1:win2], yplot[win1:win2], compcolors[c], linewidth=1)\n",
    "\n",
    "                    \n",
    "\n",
    "                    # Plot travel times\n",
    "                    if c==(len(components)-1) and plotnum == len(subplots)-1:\n",
    "\n",
    "                        for ph, phase in enumerate(tt_phases):\n",
    "                            if phase in seis.stats.traveltimes:\n",
    "                                if seis.stats.traveltimes[phase] is not None:\n",
    "                                    xtime = seis.stats.traveltimes[phase] - center_time\n",
    "\n",
    "                                    for i in range(len(subplots)):\n",
    "                                        axes[i].plot([xtime, xtime], [yloc - 0.5,yloc + 0.5],\n",
    "                                             color=tt_cmap.to_rgba(ph), linewidth=2)\n",
    "                            else:\n",
    "                                arrs = model.get_travel_times(seis.stats['evdp'],seis.stats['dist'], phase_list = (phase,))\n",
    "                                if len(arrs)>0:\n",
    "                                    for arr in arrs:\n",
    "                                        xtime = arr.time - center_time\n",
    "                                        for i in range(len(subplots)):\n",
    "                                            axes[i].plot([xtime, xtime], [yloc - 0.5,yloc + 0.5],\n",
    "                                                 color=tt_cmap.to_rgba(ph), linewidth=2)\n",
    "                                            \n",
    "                        #Save locations to plot\n",
    "                        if elon == []:\n",
    "                            elon = seis.stats['evlo']\n",
    "                            elat = seis.stats['evla']\n",
    "                            edep = seis.stats['evdp']\n",
    "                        slon.append(seis.stats['stlo'])\n",
    "                        slat.append(seis.stats['stla'])\n",
    "                        dists.append(seis.stats['dist'])\n",
    "\n",
    "# plot some fake points to make an okay legend\n",
    "for ph, phase in enumerate(tt_phases):\n",
    "    plt.plot(0, 0, '.', color=tt_cmap.to_rgba(ph), label=phase)\n",
    "plt.legend()\n",
    "\n",
    "# prettify plots\n",
    "for i in range(len(subplots)):\n",
    "    axes[i].set_xlabel('time (s) w.r.t.' + center_phase[0])\n",
    "    if yaxis == 'dist':\n",
    "        if i ==0:\n",
    "            axes[i].set_ylabel('distance (dg)')\n",
    "        axes[i].set_ylim([distmin, distmax])\n",
    "        axes[i].set_title(str(azmin) + ' < azimuth < ' + str(azmax))\n",
    "    if yaxis == 'az':\n",
    "        if i ==0:\n",
    "            axes[i].set_ylabel('azimuth (dg)')\n",
    "        axes[i].set_ylim([azmin, azmax])\n",
    "        axes[i].set_title(str(distmin) + ' < distance < ' + str(distmax))\n",
    "    axes[i].set_xlim([timemin, timemax])\n",
    "    axes[i].grid()\n",
    "\n"
   ]
  },
  {
   "cell_type": "markdown",
   "metadata": {},
   "source": [
    "# -----------------------------------------------------------------------------\n",
    "# PLOTTING RAY PATHS\n",
    "Plotting ray paths for chosen phases."
   ]
  },
  {
   "cell_type": "code",
   "execution_count": null,
   "metadata": {
    "scrolled": false
   },
   "outputs": [],
   "source": [
    "fig= plt.figure(figsize = (10,6))\n",
    "ax = fig.add_subplot(1, 1, 1, polar=True)\n",
    "# Phases to plot, e.g.  tt_phaces, center_phase, or a user-defined list [\"PKJKP\", \"SKKS\"]\n",
    "plot_phases =tt_phases\n",
    "\n",
    "widths = [1,1,1,1,1,1]\n",
    "# depth of earthquake in km\n",
    "depth_earthquake=edep\n",
    "# Distances to compute, currently set to plot a ray at the minimum and maximum distance included in the data set.\n",
    "dist_raypaths = [np.min(dists), np.max(dists)]\n",
    "\n",
    "\n",
    "# computing ray paths\n",
    "for d, dist in enumerate(dist_raypaths):\n",
    "    if d == 0:\n",
    "        arrivals= model.get_ray_paths(depth_earthquake, dist, phase_list= plot_phases)\n",
    "    else:\n",
    "        arrivals= arrivals+model.get_ray_paths(depth_earthquake, dist, phase_list= plot_phases)\n",
    "\n",
    "\n",
    "# plotting\n",
    "\n",
    "arrivals.plot_rays(ax = ax, legend = True, plot_all=False)\n",
    "\n"
   ]
  },
  {
   "cell_type": "markdown",
   "metadata": {},
   "source": [
    "# -------------------------------------------------------------------------------\n",
    "# PLOT TOMOGRAPHIC MODEL AND PIERCE POINTS\n",
    "## Load depth slice\n",
    "Model provided to plot on the map is S362ANI+M (Moulik & Ekstrom, 2014). This model is an update of the model S362ANI (Kustowski et al. 2008) which is used as the background model for the 3D shakemovie synthetics. <br>\n",
    "Choose which depth to plot. This can be 25, 50, 75, 100, 125, 150, 200, 250, 300, 350, 400, 500, 600, 700, 800, 1000, 1250, 1500, 1750, 2000, 2250, 2500, 2750, 2800, or 2890 km. <br>\n",
    "Choose what to plot 'vsv', 'vsh', or 'voigt'. <br>\n",
    "Choose 'absolute' or 'relative'. "
   ]
  },
  {
   "cell_type": "code",
   "execution_count": null,
   "metadata": {
    "scrolled": false
   },
   "outputs": [],
   "source": [
    "model3D = 'S362ANI+M' # No other model currently provided\n",
    "depth_mod = 2800\n",
    "to_plot = 'voigt'\n",
    "abs_or_rel = 'relative'\n",
    "\n",
    "# Load model\n",
    "mod = np.loadtxt(model3D+'/'+model3D+'.'+to_plot+'.'+str(int(depth_mod))+'.txt', \n",
    "           dtype={'names': ('lon', 'lat', 'vel'),'formats': ('f4', 'f4', 'f4')})  \n",
    "\n",
    "# Reshape for plotting\n",
    "len1= len(np.unique(mod['lon']))\n",
    "len2= len(np.unique(mod['lat']))\n",
    "lon = mod['lon'].reshape((len2,len1))\n",
    "lat = mod['lat'].reshape((len2,len1))\n",
    "vel = mod['vel'].reshape((len2,len1))\n",
    "print('model loaded')"
   ]
  },
  {
   "cell_type": "markdown",
   "metadata": {
    "collapsed": true
   },
   "source": [
    "## Compute pierce points\n",
    "For given phase(s) and a depth\n"
   ]
  },
  {
   "cell_type": "code",
   "execution_count": null,
   "metadata": {
    "scrolled": false
   },
   "outputs": [],
   "source": [
    "pp_depth = depth_mod # Depth to compute pierce point at\n",
    "pp_phases = center_phase # Phase(s) for piercepoints, can be set to center_phase\n",
    "\n",
    "\n",
    "downgoing =[]\n",
    "upgoing=[]\n",
    "for d in range(len(dists)):\n",
    "        # Compute ray paths\n",
    "        arrs = model.get_ray_paths_geo(source_depth_in_km=edep, \n",
    "                                          source_latitude_in_deg=elat,\n",
    "                                          source_longitude_in_deg=elon,\n",
    "                                          receiver_latitude_in_deg=slat[d],\n",
    "                                          receiver_longitude_in_deg=slon[d],\n",
    "                                          phase_list=pp_phases)\n",
    "        for A in arrs:\n",
    "            p=A.path\n",
    "            cut = np.argmax(p['depth'])\n",
    "            # Only select rays that go deep enough\n",
    "            if pp_depth < np.max(p['depth']):\n",
    "                # Interpolate downgoing pierce point\n",
    "                downgoing.append((np.interp(pp_depth, p['depth'][:cut],p['lon'][:cut] ), \n",
    "                             np.interp(pp_depth, p['depth'][:cut],p['lat'][:cut])))\n",
    "\n",
    "                # Interpolate upgoing pierce point           \n",
    "                upgoing.append((np.interp(pp_depth, p['depth'][cut:][::-1],p['lon'][cut:][::-1] ), \n",
    "                             np.interp(pp_depth, p['depth'][cut:][::-1],p['lat'][cut:][::-1])))\n",
    "\n",
    "downgoing=np.asarray(downgoing)\n",
    "upgoing=np.asarray(upgoing)\n",
    "print('done computing pierce points')"
   ]
  },
  {
   "cell_type": "markdown",
   "metadata": {},
   "source": [
    "## Plotting Map\n",
    "Uses the selection of data from above"
   ]
  },
  {
   "cell_type": "code",
   "execution_count": null,
   "metadata": {
    "scrolled": false
   },
   "outputs": [],
   "source": [
    "plot_tomography = True # Choose to plot background seismic model\n",
    "plot_piercepoints = True # Choose to plot pierce points computed above\n",
    "\n",
    "# Plot map background\n",
    "plt.figure(figsize = (10,8))\n",
    "m = Basemap(projection='ortho',lat_0=20.,lon_0=-110,resolution='l')\n",
    "m.drawcoastlines()\n",
    "m.drawcountries()\n",
    "\n",
    "\n",
    "# Plot tomographic model\n",
    "if plot_tomography:\n",
    "    x,y = m(lon,lat)\n",
    "    if abs_or_rel == 'relative':\n",
    "        ref = np.mean(vel.ravel())\n",
    "        rel = (vel-ref)/ref*100.\n",
    "        lim = np.ceil(np.max(np.abs(rel)))\n",
    "        levels = np.linspace(-lim,lim,33)\n",
    "        m.contourf(x,y,rel,levels=levels,cmap=cm.seismic_r,linewidth=0)\n",
    "    if abs_or_rel == 'absolute':\n",
    "        m.contourf(x,y,vel,33, cmap=cm.viridis_r,linewidth=0)    \n",
    "\n",
    "    plt.colorbar()\n",
    "    plt.title('model ' + model3D + ' sliced at ' +str(int(depth_mod)) + 'km', fontsize=18)\n",
    "\n",
    "\n",
    "#Plot pierce points\n",
    "if plot_piercepoints:\n",
    "    x2,y2=m(downgoing[:,0], downgoing[:,1])\n",
    "    m.scatter(x2,y2,s=35,c='y',marker='o',alpha=1)\n",
    "    x2,y2=m(upgoing[:,0], upgoing[:,1])\n",
    "    m.scatter(x2,y2,s=35,c='c',marker='o',alpha=1)\n",
    "\n",
    "#Plot event\n",
    "x2,y2=m(elon+360.,elat)\n",
    "m.scatter(x2,y2,s=600,marker='*',facecolors='y',alpha=1)\n",
    "#Plot stations\n",
    "slon=[slon[x]+360. if slon[x]<0 else slon[x]  for x in range(len(slon))]\n",
    "x2,y2=m(slon,slat)\n",
    "m.scatter(x2,y2,s=35,c='m',marker='^',alpha=1)\n"
   ]
  },
  {
   "cell_type": "code",
   "execution_count": null,
   "metadata": {
    "collapsed": true,
    "scrolled": false
   },
   "outputs": [],
   "source": []
  }
 ],
 "metadata": {
  "kernelspec": {
   "display_name": "Python 3",
   "language": "python",
   "name": "python3"
  },
  "language_info": {
   "codemirror_mode": {
    "name": "ipython",
    "version": 3
   },
   "file_extension": ".py",
   "mimetype": "text/x-python",
   "name": "python",
   "nbconvert_exporter": "python",
   "pygments_lexer": "ipython3",
   "version": "3.5.3"
  }
 },
 "nbformat": 4,
 "nbformat_minor": 2
}
